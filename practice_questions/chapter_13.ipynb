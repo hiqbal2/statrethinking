{
 "cells": [
  {
   "cell_type": "markdown",
   "metadata": {},
   "source": [
    "# Adventures in Covariance"
   ]
  },
  {
   "cell_type": "code",
   "execution_count": 1,
   "metadata": {},
   "outputs": [],
   "source": [
    "%matplotlib inline\n",
    "import numpy as np\n",
    "import pandas as pd\n",
    "import matplotlib.pyplot as plt\n",
    "import seaborn as sns\n",
    "import pymc3 as pm\n",
    "import statsmodels.api as smf\n",
    "import arviz as az\n",
    "from scipy import stats\n",
    "\n",
    "import warnings\n",
    "warnings.filterwarnings(\"ignore\")"
   ]
  },
  {
   "cell_type": "markdown",
   "metadata": {},
   "source": [
    "### Easy"
   ]
  },
  {
   "cell_type": "markdown",
   "metadata": {},
   "source": [
    "#### 13E1\n",
    "\n",
    "Add to the following model varying slopes on the predictor x. \n",
    "\n",
    "$$\n",
    "\\begin{align}\n",
    "y_i &\\sim Normal(\\mu_i, \\sigma) \\\\\n",
    "\\mu_i &= \\alpha_{group[i]} + \\beta x_i \\\\\n",
    "\\alpha_{group} &\\sim Normal(\\alpha, \\sigma_{\\alpha}) \\\\\n",
    "\\alpha &\\sim Normal(0, 10) \\\\\n",
    "\\beta &\\sim Normal(0, 1) \\\\\n",
    "\\sigma &\\sim HalfCauchy(0, 2) \\\\\n",
    "\\sigma_{\\alpha} &\\sim HalfCauchy(0, 2) \\\\\n",
    "\\end{align}\n",
    "$$"
   ]
  },
  {
   "cell_type": "markdown",
   "metadata": {},
   "source": [
    "#### 13E2\n",
    "\n",
    "Think up a context in which varying intercepts will be positively correlated with varying slopes. Provide a mechanistic explanation for the correlation."
   ]
  },
  {
   "cell_type": "markdown",
   "metadata": {},
   "source": [
    "#### 13E3\n",
    "\n",
    "When is it possible for a varying slopes model to have fewer effective parameters (as estimated by WAIC or DIC) than the corresponding model with fixed (unpooled) slopes? Explain."
   ]
  },
  {
   "cell_type": "markdown",
   "metadata": {},
   "source": [
    "#### 13E4\n",
    "\n",
    "Fit this multilevel model to the simulated café data: \n",
    "$$\n",
    "\\begin{align}\n",
    "W_i &\\sim Normal(\\mu_i, \\sigma) \\\\\n",
    "\\mu_i &= \\alpha_{café[i]} + \\beta_{café[i]}A_i \\\\\n",
    "\\alpha_{café} &\\sim Normal(\\alpha, \\sigma_{\\alpha}) \\\\\n",
    "\\beta_{café} &\\sim Normal(\\beta,\\sigma_{\\beta}) \\\\\n",
    "\\alpha &\\sim Normal(0, 10) \\\\\n",
    "\\beta &\\sim Normal(0, 10) \\\\\n",
    "\\sigma &\\sim HalfCauchy(0, 1) \\\\\n",
    "\\sigma_{\\alpha} &\\sim HalfCauchy(0, 1) \\\\\n",
    "\\sigma_{\\alpha} &\\sim HalfCauchy(0, 1)\n",
    "\\end{align}\n",
    "$$\n"
   ]
  },
  {
   "cell_type": "markdown",
   "metadata": {},
   "source": [
    "### Medium"
   ]
  },
  {
   "cell_type": "markdown",
   "metadata": {},
   "source": [
    "#### 13M1\n",
    "\n",
    "Repeat the café robot simulation from the beginning of the chapter. This time, set `rho` to zero, so that there is no correlation between intercepts and slopes. How does the posterior distribution of the correlation reflect this change in the underlying simulation?"
   ]
  },
  {
   "cell_type": "markdown",
   "metadata": {},
   "source": [
    "#### 13M2"
   ]
  },
  {
   "cell_type": "markdown",
   "metadata": {},
   "source": [
    "#### 13M3\n",
    "\n",
    "Re-estimate the varying slopes model for the UCBadmit data, now using a non-centered parameterization. Compare the efficiency of the forms of the model, using `n_eff`. Which is better? Which chain sampled faster?"
   ]
  },
  {
   "cell_type": "markdown",
   "metadata": {},
   "source": [
    "#### 13M4\n",
    "\n",
    "Use WAIC to compare the Gaussian process model of Oceanic tools to the models fit to the same data in Chapter 10. Pay special attention to the effective numbers of parameters, as estimated by WAIC."
   ]
  },
  {
   "cell_type": "markdown",
   "metadata": {},
   "source": [
    "### Hard"
   ]
  },
  {
   "cell_type": "markdown",
   "metadata": {},
   "source": [
    "#### 13H1\n",
    "\n",
    "Let’s revisit the Bangladesh fertility data, `data(bangladesh)`, from thepractice problems for Chapter 12. Fit a model with both varying intercepts by `district_id` and varying slopes of `urban` by `district_id`. You are still predicting `use.contraception`. Inspect the correlation between the intercepts and slopes. Can you interpret this correlation, in terms of what it tells you about the pattern of contraceptive use in the sample? It might help to plot the mean (or median) varying effect estimates for both the intercepts and slopes, by district. Then you can visualize the correlation and maybe more easily think through what it means to have a particular correlation. Plotting predicted proportion of women using contraception, with urban women on one axis and rural on the other, might also help."
   ]
  },
  {
   "cell_type": "markdown",
   "metadata": {},
   "source": [
    "#### 13H2\n",
    "\n",
    "Varying effects models are useful for modeling time series, as well as spatial clustering. In a time series, the observations cluster by entities that have continuity through time, such as individuals. Since observations within individuals are likely highly correlated, the multilevel structure can help quite a lot. You’ll use the data in `data(Oxboys)`, which is 234 height measurements on 26 boys from an Oxford Boys Club (I think these were like youth athletic leagues?), at 9 different ages (centered and standardized) per boy. You’ll be interested in predicting `height`, using `age`, clustered by `Subject` (individual boy).\n",
    "\n",
    "Fit a model with varying intercepts and slopes (on age), clustered by Subject. Present and in- terpret the parameter estimates. Which varying effect contributes more variation to the heights, the intercept or the slope?"
   ]
  },
  {
   "cell_type": "markdown",
   "metadata": {},
   "source": [
    "#### 13H3\n",
    "\n",
    "Now consider the correlation between the varying intercepts and slopes. Can you explain its value? How would this estimated correlation influence your predictions about a new sample of boys?"
   ]
  },
  {
   "cell_type": "markdown",
   "metadata": {},
   "source": [
    "#### 13H4\n",
    "\n",
    "Use `mvrnorm` (in `library(MASS)`) or `rmvnorm` (in `library(mvtnorm)`) to simulate a new sample of boys, based upon the posterior mean values of the parameters. That is, try to simulate varying intercepts and slopes, using the relevant parameter estimates, and then plot the predicted trends of height on age, one trend for each simulated boy you produce. A sample of 10 simulated boys is plenty, to illustrate the lesson. You can ignore uncertainty in the posterior, just to make the problem a little easier. But if you want to include the uncertainty about the parameters, go for it.\n",
    "\n",
    "Note that you can construct an arbitrary variance-covariance matrix to pass to either `mvrnorm` or `rmvnorm` with something like:\n",
    "```r\n",
    " S <- matrix( c( sa^2 , sa*sb*rho , sa*sb*rho , sb^2 ) , nrow=2 )\n",
    "```\n",
    "\n",
    "where `sa` is the standard deviation of the first variable, `sb` is the standard deviation of the second variable, and `rho` is the correlation between them."
   ]
  },
  {
   "cell_type": "code",
   "execution_count": null,
   "metadata": {},
   "outputs": [],
   "source": []
  }
 ],
 "metadata": {
  "kernelspec": {
   "display_name": "Python 3",
   "language": "python",
   "name": "python3"
  },
  "language_info": {
   "codemirror_mode": {
    "name": "ipython",
    "version": 3
   },
   "file_extension": ".py",
   "mimetype": "text/x-python",
   "name": "python",
   "nbconvert_exporter": "python",
   "pygments_lexer": "ipython3",
   "version": "3.7.6"
  }
 },
 "nbformat": 4,
 "nbformat_minor": 4
}
