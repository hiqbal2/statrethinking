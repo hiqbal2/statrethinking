{
 "cells": [
  {
   "cell_type": "markdown",
   "metadata": {},
   "source": [
    "# Missing Data and Other Opportunities"
   ]
  },
  {
   "cell_type": "code",
   "execution_count": 1,
   "metadata": {},
   "outputs": [],
   "source": [
    "%matplotlib inline\n",
    "import numpy as np\n",
    "import pandas as pd\n",
    "import matplotlib.pyplot as plt\n",
    "import seaborn as sns\n",
    "import pymc3 as pm\n",
    "import statsmodels.api as smf\n",
    "import arviz as az\n",
    "from scipy import stats\n",
    "\n",
    "import warnings\n",
    "warnings.filterwarnings(\"ignore\")"
   ]
  },
  {
   "cell_type": "markdown",
   "metadata": {},
   "source": [
    "### Easy"
   ]
  },
  {
   "cell_type": "markdown",
   "metadata": {},
   "source": [
    "#### 14E1\n",
    "\n",
    "Rewrite the Oceanic tools model (from Chapter 10) below so that it assumes measured error on the log population sizes of each society.\n",
    "\n",
    "$$\n",
    "\\begin{align}\n",
    "T_i &\\sim Poisson(\\mu_i) \\\\\n",
    "\\text{log}\\mu_i &= \\alpha + \\beta \\text{log} P_i \\\\\n",
    "\\alpha &\\sim Normal(0, 10) \\\\\n",
    "\\beta &\\sim Normal(0, 1) \\\\\n",
    "\\end{align}\n",
    "$$"
   ]
  },
  {
   "cell_type": "markdown",
   "metadata": {},
   "source": [
    "#### 14E2\n",
    "\n",
    "Rewrite the same model so that it allows imputation of missing values for log population. There aren’t any missing values in the variable, but you can still write down a model formula that would imply imputation, if any values were missing."
   ]
  },
  {
   "cell_type": "markdown",
   "metadata": {},
   "source": [
    "### Medium"
   ]
  },
  {
   "cell_type": "markdown",
   "metadata": {},
   "source": [
    "#### 14M1\n",
    "\n",
    "Using the mathematical form of the imputation model in the chapter, explain what is being assumed about how the missing values were generated."
   ]
  },
  {
   "cell_type": "markdown",
   "metadata": {},
   "source": [
    "#### 14M2\n",
    "\n",
    "In earlier chapters, we threw away cases from the primate milk data, so we could use the neocortex variable. Now repeat the WAIC model comparison example from Chapter 6, but use im- putation on the neocortex variable so that you can include all of the cases in the original data. The simplest form of imputation is acceptable. How are the model comparison results affected by being able to include all of the cases?"
   ]
  },
  {
   "cell_type": "markdown",
   "metadata": {},
   "source": [
    "#### 14M3\n",
    "\n",
    "Repeat the divorce data measurement error models, but this time double the standard errors. Can you explain how doubling the standard errors impacts inference?"
   ]
  },
  {
   "cell_type": "markdown",
   "metadata": {},
   "source": [
    "### Hard"
   ]
  },
  {
   "cell_type": "markdown",
   "metadata": {},
   "source": [
    "#### 14H1\n",
    "\n",
    "The data in `data(elephants)` are counts of matings observed for bull elephants of differing ages. There is a strong positive relationship between age and matings. However, age is not always assessed accurately. First, fit a Poisson model predicting `MATINGS` with `AGE` as a predictor. Second, assume that the observed `AGE` values are uncertain and have a standard error of ±5 years. Re-estimate the relationship between `MATINGS` and `AGE`, incorporating this measurement error. Compare the inferences of the two models."
   ]
  },
  {
   "cell_type": "markdown",
   "metadata": {},
   "source": [
    "#### 14H2\n",
    "\n",
    "Repeat the model fitting problem above, now increasing the assumed standard error on `AGE`. How large does the standard error have to get before the posterior mean for the coefficient on AGE reaches zero?"
   ]
  },
  {
   "cell_type": "markdown",
   "metadata": {},
   "source": [
    "#### 14H3\n",
    "\n",
    "The fact that information flows in all directions among parameters sometimes leads to rather unintuitive conclusions. Here’s an example from missing data imputation, in which imputation of a single datum reverses the direction of an inferred relationship. Use these data:\n",
    "\n",
    "```r\n",
    "set.seed(100)\n",
    "x <- c( rnorm(10) , NA )\n",
    "y <- c( rnorm(10,x) , 100 )\n",
    "d <- list(x=x,y=y)\n",
    "```\n",
    "\n",
    "These data comprise 11 cases, one of which has a missing predictor value. You can quickly confirm that a regression of y on x for only the complete cases indicates a strong positive relationship between the two variables. But now fit this model, imputing the one missing value for x:\n",
    "\n",
    "$$\n",
    "\\begin{align}\n",
    "y_i &\\sim Normal(\\mu_i, \\sigma) \\\\\n",
    "\\mu_i &= \\alpha + \\beta x_i \\\\\n",
    "xi &\\sim Normal(0, 1) \\\\\n",
    "\\alpha &\\sim Normal(0, 100) \\\\\n",
    "\\beta &\\sim Normal(0, 100) \\\\\n",
    "\\sigma &\\sim HalfCauchy(0, 1) \\\\\n",
    "\\end{align}\n",
    "$$\n",
    "\n",
    "What has happened to the posterior distribution of β? Be sure to inspect the full density. Can you explain the change in inference?"
   ]
  },
  {
   "cell_type": "code",
   "execution_count": null,
   "metadata": {},
   "outputs": [],
   "source": []
  }
 ],
 "metadata": {
  "kernelspec": {
   "display_name": "Python 3",
   "language": "python",
   "name": "python3"
  },
  "language_info": {
   "codemirror_mode": {
    "name": "ipython",
    "version": 3
   },
   "file_extension": ".py",
   "mimetype": "text/x-python",
   "name": "python",
   "nbconvert_exporter": "python",
   "pygments_lexer": "ipython3",
   "version": "3.7.6"
  }
 },
 "nbformat": 4,
 "nbformat_minor": 4
}
