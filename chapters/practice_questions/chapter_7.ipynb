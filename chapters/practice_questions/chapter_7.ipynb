{
 "cells": [
  {
   "cell_type": "markdown",
   "metadata": {},
   "source": [
    "# Interactions"
   ]
  },
  {
   "cell_type": "code",
   "execution_count": 1,
   "metadata": {},
   "outputs": [],
   "source": [
    "%matplotlib inline\n",
    "import numpy as np\n",
    "import pandas as pd\n",
    "import matplotlib.pyplot as plt\n",
    "import seaborn as sns\n",
    "import pymc3 as pm\n",
    "import statsmodels.api as smf\n",
    "import arviz as az\n",
    "from scipy import stats\n",
    "\n",
    "import warnings\n",
    "warnings.filterwarnings(\"ignore\")"
   ]
  },
  {
   "cell_type": "markdown",
   "metadata": {},
   "source": [
    "### Easy"
   ]
  },
  {
   "cell_type": "markdown",
   "metadata": {},
   "source": [
    "###### 7E1\n",
    "\n",
    "For each of the causal relationships below, name a hypothetical third variable that would lead to an interaction effect.  \n",
    "1. Bread dough rises because of yeast\n",
    "2. Education leads to higher income\n",
    "3. Gasoline makes a car go"
   ]
  },
  {
   "cell_type": "markdown",
   "metadata": {},
   "source": [
    "###### 7E2\n",
    "Which of the following explanations invokes an interaction?  \n",
    "\n",
    "1. Caramalizing onions requires cooking over low hear and making sure onions do not dry out.\n",
    "1. A car will go faster when it has more cylinders or when it has a better fuel injector.\n",
    "1. Most people acquire their political beliefs from their parents, unless they get them instead from their friends.\n",
    "1. Intelligent animal species tend to be either highly social or have manipulative appendages (hands, tentacles, etc.)"
   ]
  },
  {
   "cell_type": "markdown",
   "metadata": {},
   "source": [
    "###### 7E3\n",
    "\n",
    "For each of the explanations in 7E2, write a linear model that expresses the stated relationship."
   ]
  },
  {
   "cell_type": "markdown",
   "metadata": {},
   "source": [
    "### Medium"
   ]
  },
  {
   "cell_type": "markdown",
   "metadata": {},
   "source": [
    "###### 7M1\n",
    "\n",
    "Recall the tulips example from the chapter. Suppose another set of treatments adjusted the temprature in the greenhouse over two levels: cold and hot. The data in the chapter were collected at the cold temperature. You find none of the plants grown under the hot temperature developed blooms at all, regardless of the water and shade levels. Can you explain this result int erms of interactions between water, shade and temperature?"
   ]
  },
  {
   "cell_type": "markdown",
   "metadata": {},
   "source": [
    "###### 7M2\n",
    "\n",
    "Can you invent a regression equation that would make the bloom size zero, whenever the temperature is hot?"
   ]
  },
  {
   "cell_type": "markdown",
   "metadata": {},
   "source": [
    "###### 7M3\n",
    "\n",
    "In parts of North America, ravens depend upon wolves for their food. This is because ravens are varnivorous but cannot usually kill or open carcasses of prey. Wolves however can and do kill and tear open animals, and they tolerate ravens co-feeding at their kills. This specias relationship is generally described as a \"species interaction\". Can you invent a hypothetical set of data on raven population size in which this relationship would manifest as a satistical interaction? Do you think the biological interaction could be linear? Why or why not?"
   ]
  },
  {
   "cell_type": "markdown",
   "metadata": {},
   "source": [
    "### Hard"
   ]
  },
  {
   "cell_type": "markdown",
   "metadata": {},
   "source": [
    "###### 7H1\n",
    "\n",
    "Return to the `data(tulips)` example in the chapter. Now include the `bed` variable as a predictor in the interaction model. Don't interact `bed` with othe other predictors; just include it as a main effect. Not the `bed` is categorical. So to use it properly, you willl need to either construct dummy variables or rather an index variable, as explained in Chapter 6."
   ]
  },
  {
   "cell_type": "markdown",
   "metadata": {},
   "source": [
    "###### 7H2\n",
    "\n",
    "Use WAIC to compare the model from **7H1** to a model that omits `bed`. What do you infer from this comparison? Can you reconcile the WAIC results with the posterios distribution of the `bed` coefficients?"
   ]
  },
  {
   "cell_type": "markdown",
   "metadata": {},
   "source": [
    "###### 7H3\n",
    "\n",
    "Consider again the `data(rugged)` data on economic development and terrain ruggedness, examined in this chapter. One of the African con=untries in that example, Seychelles, is far outside the could of other nations, being a rare country with both relatively high GDP and high ruggedness. Seychelles is also unusual, in that it is a group of islands far from the coast of mainland Africa, and its main economic activity is tourism.  \n",
    "\n",
    "One might suspect that this one nation is exerting a strong influence on the conclusions. In this problem, I want you to drop Seychelles from the data and re-evaluate the hypothesis that relationship of African economies with ruggedness is different from that on other continents.  \n",
    "\n",
    "1. Begin by using `map` to fit just the interaction model:  \n",
    "$$\n",
    "\\begin{align}\n",
    "y_i &\\sim \\text{Normal($\\mu_i$, $\\sigma$)} \\\\\n",
    "\\mu_i &= \\alpha + \\beta_AA_i + \\beta_RR_i + \\beta_{AR}AR_i\n",
    "\\end{align}\n",
    "$$  \n",
    "where *y* is log GDP per capita in the year 2000 (log of `rgdppc_2000`); *A* is `cont_africa`, the dummy variable for being an African nation; and *R* is the variable `rugged`. Choose your own priors. Compare the interence from this model fit to the data without Seychelles to the same model fit to the full data. Does it seem like the effect of ruggedness depends upon continent? How much has the expected relationship changed?\n",
    "\n",
    "2. Now plot the predictions of the interaction model, with and without Seychelles. Does it still seem like the effect of ruggedness depends upon continent? How much has the expected relationship changed?  \n",
    "\n",
    "3. Finally, conduct a model comparison analysis, using WAIC. Fit three models to the data without Seychelles:  \n",
    "\n",
    "$$\n",
    "\\begin{align}\n",
    "\\text{Model 1}: y_i &\\sim \\text{Normal($\\mu_i$, $\\sigma$)} \\\\\n",
    "\\mu_i &= \\alpha + \\beta_RR_i\\\\\n",
    "\\text{Model 2}: y_i &\\sim \\text{Normal($\\mu_i$, $\\sigma$)} \\\\\n",
    "\\mu_i &= \\alpha + \\beta_AA_i + \\beta_RR_i \\\\\n",
    "\\text{Model 3}: y_i &\\sim \\text{Normal($\\mu_i$, $\\sigma$)} \\\\\n",
    "\\mu_i &= \\alpha + \\beta_AA_i + \\beta_RR_i + \\beta_{AR}AR_i\n",
    "\\end{align}\n",
    "$$\n",
    "\n",
    "Use whatever priors you think are sensible. Plot the model-averaged predictions of this model set.  Do your inferences differ from those in (b)? Why or why not?"
   ]
  },
  {
   "cell_type": "markdown",
   "metadata": {},
   "source": [
    "###### 7H4\n",
    "\n",
    "The values in `data(nettle)` are data on language diversity in 74 nations. The meaning of each column is given below.   \n",
    "\n",
    "1. `country`: Name of the country.\n",
    "1. `num.lang`: Number of recognized languages spoken.\n",
    "1. `area`: Area in square kilometers.\n",
    "1. `k.pop`: Population, in thousands.\n",
    "1. `num.stations`: Number of weather stations that provided data for the next two columns.\n",
    "1. `mean.growing.season`: Average length of growing season, in months\n",
    "1. `sd.growing.season`: Standard deviation of length of growing season, in months.\n",
    "\n",
    "\n",
    "Use these data to evaluate the hypothesis that language diversity is partly a product of food security . The nothin that, in productive ecologies, people don't need large social networks to buffer them against risk of food shortfalls. This means that ethnic groups can be smaller and more self-sufficient, leading to more languages per-capita. In contrast, in a poor ecology, there is a subsistence risk, and so human societies have adapted by building larger networks of mutual obligation to provide food insurance. This in turn creates social forces that help prevent languages from diversifying.  \n",
    "\n",
    "Specifically, you will try to model the number of languages per capita as the outcome variable:  \n",
    "```\n",
    "d$lang.per.cap  <- d$num.lang / d$k.pop\n",
    "```  \n",
    "\n",
    "Use the logarithm of this new variable as your regression outcome. (A count model would be better here, but you'll learn those later, in chapter 10.)  \n",
    "\n",
    "This problem is open ended, allowing you to decide how you address the hypothesis and the uncertain advice the modeling provides. If you think you need to use WAIC any place, please do. If you think you need certain priors, argue for them. If you think you need to plot predictions in a certain way, please do. Just try to honestly evaluate the main effects of both `mean.growing.season` and `sd.growing.season`, as well as their two-way interaction. as outlined in parts (b), (b), and (c) below. If you are not sure which approach to use, try several.  \n",
    "\n",
    "1. Evaluate the hypothesis that language diversity, as measured by `log(lang.per.cap)`, is positively associated with the average length of the growing season, `mean.growing.season`. Consider `log(area)` in your regression(s) as a covariate (not an interaction). Interpret your results.\n",
    "\n",
    "1. Now evaluate the hypothesis that language diversity is negatively associated with the standard deviation of length of growing season, `sd.growing.season`. The hypothesis follows from uncertainty in harvest favoring social insurance through larger social networks and therefore fewer languages. Again, consider `log(area)` as a covariate (not an interaction). Interpret your results.  \n",
    "\n",
    "1. Finally, evaluate the hypothesis that `mean.growing.season` and `sd.growing.season` interact to synergistically reduce language diversity. The idea is that, in nations with longer average growing seasons, high variance makes storage and redistribution even more important than it would otherwise. That way, people can cooperate to preserve and protect windfalls to be used during the droughts. These forces in turn may lead to greater social integreation and fewer languages"
   ]
  },
  {
   "cell_type": "code",
   "execution_count": null,
   "metadata": {},
   "outputs": [],
   "source": []
  }
 ],
 "metadata": {
  "kernelspec": {
   "display_name": "Python 3",
   "language": "python",
   "name": "python3"
  },
  "language_info": {
   "codemirror_mode": {
    "name": "ipython",
    "version": 3
   },
   "file_extension": ".py",
   "mimetype": "text/x-python",
   "name": "python",
   "nbconvert_exporter": "python",
   "pygments_lexer": "ipython3",
   "version": "3.7.6"
  }
 },
 "nbformat": 4,
 "nbformat_minor": 4
}
