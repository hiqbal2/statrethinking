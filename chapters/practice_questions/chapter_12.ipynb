{
 "cells": [
  {
   "cell_type": "markdown",
   "metadata": {},
   "source": [
    "# Multilevel Models"
   ]
  },
  {
   "cell_type": "code",
   "execution_count": 1,
   "metadata": {},
   "outputs": [],
   "source": [
    "%matplotlib inline\n",
    "import numpy as np\n",
    "import pandas as pd\n",
    "import matplotlib.pyplot as plt\n",
    "import seaborn as sns\n",
    "import pymc3 as pm\n",
    "import statsmodels.api as smf\n",
    "import arviz as az\n",
    "from scipy import stats\n",
    "\n",
    "import warnings\n",
    "warnings.filterwarnings(\"ignore\")"
   ]
  },
  {
   "cell_type": "markdown",
   "metadata": {},
   "source": [
    "### Easy"
   ]
  },
  {
   "cell_type": "markdown",
   "metadata": {},
   "source": [
    "#### 12E1\n",
    "\n",
    "Which of the following priors will produce more *shrinkage* in the estimates? (a) $\\alpha_{TANK} \\sim \\text{Normal($0, 1$)}$; (b) $\\alpha_{TANK} \\sim \\text{Normal($0, 2$)}$."
   ]
  },
  {
   "cell_type": "markdown",
   "metadata": {},
   "source": [
    "#### 12E2\n",
    "\n",
    "Make the following model into a multilevel model.\n",
    "\n",
    "$$\n",
    "\\begin{align}\n",
    "y_i &\\sim Binomial(1, p_i) \\\\\n",
    "\\text{logit($p_i$)} &= \\alpha_{group[i]} + \\beta x_i \\\\\n",
    "\\alpha_{group} &\\sim Normal(0, 10) \\\\\n",
    "\\beta &\\sim Normal(0, 1)\n",
    "\\end{align}\n",
    "$$"
   ]
  },
  {
   "cell_type": "markdown",
   "metadata": {},
   "source": [
    "#### 12E3\n",
    "\n",
    "Make the following model into a multilevel model.\n",
    "$$\n",
    "\\begin{align}\n",
    "y_i &\\sim Normal(\\mu_i, \\sigma) \\\\\n",
    "\\mu_i &= \\alpha_{group[i]} + \\beta x_i \\\\\n",
    "\\alpha_{group} &\\sim Normal(0, 10) \\\\\n",
    "\\beta &\\sim Normal(0, 1) \\\\\n",
    "\\sigma &\\sim HalfCauchy(0, 2)\n",
    "\\end{align}\n",
    "$$\n",
    "\n"
   ]
  },
  {
   "cell_type": "markdown",
   "metadata": {},
   "source": [
    "#### 12E4\n",
    "\n",
    "Write an example mathematical model formula for a Poisson regression with varying inter- cepts."
   ]
  },
  {
   "cell_type": "markdown",
   "metadata": {},
   "source": [
    "#### 12E5\n",
    "\n",
    "Write an example mathematical model formula for a Poisson regression with two different kinds of varying intercepts, a cross-classified model."
   ]
  },
  {
   "cell_type": "markdown",
   "metadata": {},
   "source": [
    "### Medium"
   ]
  },
  {
   "cell_type": "markdown",
   "metadata": {},
   "source": [
    "#### 12M1\n",
    "\n",
    "Revisit the Reed frog survival data, `data(reedfrogs)`, and add the `predation` and `size` treatment variables to the varying intercepts model. Consider models with either main effect alone, both main effects, as well as a model including both and their interaction. Instead of focusing on inferences about these two predictor variables, focus on the inferred variation across tanks. Explain why it changes as it does across models."
   ]
  },
  {
   "cell_type": "markdown",
   "metadata": {},
   "source": [
    "#### 12M2\n",
    "\n",
    "Compare the models you fit just above, using WAIC. Can you reconcile the differences in WAIC with the posterior distributions of the models?"
   ]
  },
  {
   "cell_type": "markdown",
   "metadata": {},
   "source": [
    "#### 12M3\n",
    "\n",
    "Re-estimate the basi Reed frog varying intercept model,but now using a Cauchy distribution in place of the Gaussian distribution for the varying intercepts. That is, fit this model:\n",
    "\n",
    "$$\n",
    "\\begin{align}\n",
    "s_i &\\sim Binomial(n_i, p_i) \\\\\n",
    "logit(p_i) & = \\alpha_{TANK[i]} \\\\\n",
    "\\alpha_{TANK} &\\sim Cauchy(\\alpha, \\sigma) \\\\\n",
    "\\alpha &\\sim Normal(0, 1) \\\\\n",
    "\\sigma &\\sim HalfCauchy(0, 1)\n",
    "\\end{align}\n",
    "$$\n",
    "\n",
    "Compare the posterior means of the intercepts, $\\alpha_{TANK}$, to the posterior means produced in the chapter, using the customary Gaussian prior. Can you explain the pattern of differences?"
   ]
  },
  {
   "cell_type": "markdown",
   "metadata": {},
   "source": [
    "#### 12M4\n",
    "\n",
    "Fit the following cross-classified multilevel model to the chimpanzees data: \n",
    "$$\n",
    "\\begin{align}\n",
    "L_i &\\sim Binomial(1, p_i) \\\\\n",
    "logit(p_i) & = \\alpha_{ACTOR[i]} + \\alpha_{BLOCK[i]} + (\\beta_p + \\beta_{PC}C_i)P_i\\\\\n",
    "\\alpha_{ACTOR} &\\sim Normal(\\alpha, \\sigma_{ACTOR}) \\\\\n",
    "\\alpha_{BLOCK} &\\sim Normal(\\gamma, \\sigma_{BLOCK}) \\\\\n",
    "\\alpha, \\gamma, \\beta_P, \\beta_PC &\\sim Normal(0, 10) \\\\\n",
    "\\sigma_{ACTOR}, \\sigma_{BLOCK} &\\sim HalfCauchy(0, 1)\n",
    "\\end{align}\n",
    "$$\n",
    "\n",
    "Each of the parameters in those comma-separated lists gets the same independent prior. Compare the posterior distribution to that produced by the similar cross-classified model from the chapter. Also compare the number of effective samples. Can you explain the differences?"
   ]
  },
  {
   "cell_type": "markdown",
   "metadata": {},
   "source": [
    "### Hard"
   ]
  },
  {
   "cell_type": "markdown",
   "metadata": {},
   "source": [
    "#### 12H1\n",
    "\n",
    "In 1980, a typical Bengali woman could have 5 or more children in her lifetime. By the year 200, a typical Bengali woman had only 2 or 3. You’re going to look at a historical set of data, when contraception was widely available but many families chose not to use it. These data reside in data(bangladesh) and come from the 1988 Bangladesh Fertility Survey. Each row is one of 1934 women. There are six variables, but you can focus on three of them for this practice problem:\n",
    "\n",
    "1. `district`: ID number of administrative district each woman resided in\n",
    "1. `use.contraception`: An indicator (0/1) of whether the woman was using contraception\n",
    "1. `urban`: An indicator (0/1) of whether the woman lived in a city, as opposed to living in a rural area\n",
    "\n",
    "The first thing to do is ensure that the cluster variable, district, is a contiguous set of integers. Recall that these values will be index values inside the model. If there are gaps, you’ll have parameters for which there is no data to inform them. Worse, the model probably won’t run. Look at the unique values of the `district` variable:\n",
    "\n",
    "```r\n",
    "sort(unique(d$district))\n",
    "```\n",
    "\n",
    "District 54 is absent. So `district` isn’t yet a good index variable, because it’s not contiguous. This is easy to fix. Just make a new variable that is contiguous. This is enough to do it:\n",
    "```\n",
    " d$district_id <- as.integer(as.factor(d$district))\n",
    " sort(unique(d$district_id))\n",
    "```\n",
    "\n",
    "Now, focus on predicting `use.contraception`, clustered by `district_id`. Do not include `urban` just yet. Fit both (1) a traditional fixed-effects model that uses dummy variables for district and (2) a multilevel model with varying intercepts for district. Plot the predicted proportions of women in each district using contraception, for both the fixed-effects model and the varying-effects model. That is, make a plot in which district ID is on the horizontal axis and expected proportion using contraception is on the vertical. Make one plot for each model, or layer them on the same plot, as you prefer. How do the models disagree? Can you explain the pattern of disagreement? In particular, can you explain the most extreme cases of disagreement, both why they happen where they do and why the models reach different inferences?"
   ]
  },
  {
   "cell_type": "markdown",
   "metadata": {},
   "source": [
    "#### 12H2\n",
    "\n",
    "Return to the Trolley data, `data(Trolley)`, from Chapter 11. Define and fit a varying inter- cepts model for these data. Cluster intercepts on individual participants, as indicated by the unique values in the id variable. Include `action`, `intention`, and `contact` as ordinary terms. Compare the varying intercepts model and a model that ignores individuals, using both WAIC and posterior predictions. What is the impact of individual variation in these data?"
   ]
  },
  {
   "cell_type": "markdown",
   "metadata": {},
   "source": [
    "#### 12H3\n",
    "\n",
    "The Trolley data are also clustered by `story`, which indicates a unique narrative for each vignette. Define and fit a cross-classified varying intercepts model with both `id` and `story`. Use the same ordinary terms as in the previous problem. Compare this model to the previous models. What do you infer about the impact of different stories on responses?"
   ]
  },
  {
   "cell_type": "code",
   "execution_count": null,
   "metadata": {},
   "outputs": [],
   "source": []
  }
 ],
 "metadata": {
  "kernelspec": {
   "display_name": "Python 3",
   "language": "python",
   "name": "python3"
  },
  "language_info": {
   "codemirror_mode": {
    "name": "ipython",
    "version": 3
   },
   "file_extension": ".py",
   "mimetype": "text/x-python",
   "name": "python",
   "nbconvert_exporter": "python",
   "pygments_lexer": "ipython3",
   "version": "3.7.6"
  }
 },
 "nbformat": 4,
 "nbformat_minor": 4
}
