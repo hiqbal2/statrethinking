{
 "cells": [
  {
   "cell_type": "markdown",
   "metadata": {},
   "source": [
    "# Interactions"
   ]
  },
  {
   "cell_type": "code",
   "execution_count": 1,
   "metadata": {},
   "outputs": [],
   "source": [
    "%matplotlib inline\n",
    "import numpy as np\n",
    "import pandas as pd\n",
    "import matplotlib.pyplot as plt\n",
    "import seaborn as sns\n",
    "import pymc3 as pm\n",
    "import statsmodels.api as smf\n",
    "import arviz as az\n",
    "from scipy import stats\n",
    "\n",
    "import warnings\n",
    "warnings.filterwarnings(\"ignore\")"
   ]
  },
  {
   "cell_type": "markdown",
   "metadata": {},
   "source": [
    "### Easy"
   ]
  },
  {
   "cell_type": "markdown",
   "metadata": {},
   "source": [
    "###### 8E1\n",
    "\n",
    "Which of the following is a requirement of the simple Metropolis algorithm?  \n",
    "\n",
    "1. The parameter must be discrete.\n",
    "1. The likelihood function must be Gaussian.\n",
    "1. The proposal distribution must be symmetric."
   ]
  },
  {
   "cell_type": "markdown",
   "metadata": {},
   "source": [
    "###### 8E2\n",
    "\n",
    "Gibbs sampling is more efficient than the Metropolis algorithm. How does it achieve this extra efficiency? Are there any limitations to the Gibbs sampling strategy?"
   ]
  },
  {
   "cell_type": "markdown",
   "metadata": {},
   "source": [
    "###### 8E3\n",
    "\n",
    "Which sort of parameters can Hamiltonian Monte Carlo not handle? Can you explain why?"
   ]
  },
  {
   "cell_type": "markdown",
   "metadata": {},
   "source": [
    "###### 8E4\n",
    "\n",
    "Explain the difference between effective number of samples, `n_eff` as calculated by Stan, and actual number of samples."
   ]
  },
  {
   "cell_type": "markdown",
   "metadata": {},
   "source": [
    "###### 8E5\n",
    "\n",
    "Which value should `Rhat` approach, when a chain is sampling the posterior distribution correctly?"
   ]
  },
  {
   "cell_type": "markdown",
   "metadata": {},
   "source": [
    "###### 8E6\n",
    "\n",
    "Sketch a good trace plot for a Markov chain, one that is effectively sampling the posterior distribution. What is good about its shape? Then sketch a trace plot for a malfunctioning Markov chain. What about its shape indicates malfunction?"
   ]
  },
  {
   "cell_type": "markdown",
   "metadata": {},
   "source": [
    "### Medium"
   ]
  },
  {
   "cell_type": "markdown",
   "metadata": {},
   "source": [
    "###### 8M1\n",
    "\n",
    "Re-estimate the terrain ruggedness model from the chapter, but not using a uniform prior and an exponential prior for the standard deviation, `sigma`. The uniform prior should be `dunif(0, 10)` and the exponential should be `dexp(1)`. Do the different priors have any deductible influence on the posterior distribution?"
   ]
  },
  {
   "cell_type": "markdown",
   "metadata": {},
   "source": [
    "###### 8M2\n",
    "\n",
    "The Cauchy and exponential priors from the terrain ruggedness model are very weak. They can be made more informative by reducing their scale. Compare the `dcauchy` and `dexp` priors for progressively smaller values of the scaling parameter. As these priors become stronger, how does each influence the posterior distribution?"
   ]
  },
  {
   "cell_type": "markdown",
   "metadata": {},
   "source": [
    "###### 8M3\n",
    "\n",
    "Re-estimate one of the Stan models from the chapter, but at different numbers of warmup iterations. Be sure to use the same number of sampling iterations in each case. Compare the `n_eff` values. How much warmup is enough?"
   ]
  },
  {
   "cell_type": "markdown",
   "metadata": {},
   "source": [
    "### Hard"
   ]
  },
  {
   "cell_type": "markdown",
   "metadata": {},
   "source": [
    "###### 8H1\n",
    "\n",
    "Run the model below and then inspect the posterior distribution and explain what it is accomplishing.  \n",
    "\n",
    "Compare the samples for the parameters `a` and `b`. Can you explain the different trace plots, using what you know about the Cauchy distribution?"
   ]
  },
  {
   "cell_type": "markdown",
   "metadata": {},
   "source": [
    "###### 8H2\n",
    "\n",
    "Recall the divorce rate example from Chapter 5. Repeat that analysis, using `map2stan` this time, fitting models `m5.1`, `m5.2` and `m5.3`. Use `compare` to compare the models on the basis of WAIC. Explain the results."
   ]
  },
  {
   "cell_type": "markdown",
   "metadata": {},
   "source": [
    "###### 8H3\n",
    "\n",
    "Sometimes changing the prior for one parameter has unanticipated effects on the other parameters. This is because when a parameter is highly correlated with another parameter in the posterior, the prior influences both parameters. Here's an example to work and think through.  \n",
    "\n",
    "Go back to the leg length example in CHapter 5. Here is the code again, which simulates height and leg lengths for 100 imagined individuals:  \n",
    "\n",
    "\n",
    "And below is the model you fit before, resulting in a highly correlated posterior for the two beta parameters. This time, fir the model using `map2stan`:  \n",
    "\n",
    "\n",
    "Compare the posterior distribution produced by the code above to the posterior distribution produced when you change the prior for `br` so that it is strictly positive:  \n",
    "\n",
    "\n",
    "Note that `T[0,]` on the right-hand side of the prior for `br`. What the `T[0,]` does is *truncate* tthe normal distributionso that it has positive probability only above zero. In other words, that prior ensures that the posterior distribution for `br` will have no probability mass below zero.  \n",
    "\n",
    "Compare the two posterior distributions for `m5.8s` and `m5.8s2`. What has changed in the posterior distribution of both beta parameters? Can you explain the change induced by the change in the prior?"
   ]
  },
  {
   "cell_type": "markdown",
   "metadata": {},
   "source": [
    "###### 8H4\n",
    "\n",
    "For the two models fit in the previous problem, use DIC or WAIC to compare the effective numbers of parameters for each model. Which model has more effective parameters? Why?"
   ]
  },
  {
   "cell_type": "markdown",
   "metadata": {},
   "source": [
    "###### 8H5\n",
    "\n",
    "Modify the Metropolis algorithm code from the chapter to ahndle the case that the island populations have different distribution than the island labels. This means the island's number will not be the same as its population."
   ]
  },
  {
   "cell_type": "markdown",
   "metadata": {},
   "source": [
    "###### 8H6\n",
    "\n",
    "Modify the Metropolis algorithm code from the chapter to write your own simple MCMC estimator for globe tossing data and model from Chapter 2."
   ]
  },
  {
   "cell_type": "code",
   "execution_count": null,
   "metadata": {},
   "outputs": [],
   "source": []
  }
 ],
 "metadata": {
  "kernelspec": {
   "display_name": "Python 3",
   "language": "python",
   "name": "python3"
  },
  "language_info": {
   "codemirror_mode": {
    "name": "ipython",
    "version": 3
   },
   "file_extension": ".py",
   "mimetype": "text/x-python",
   "name": "python",
   "nbconvert_exporter": "python",
   "pygments_lexer": "ipython3",
   "version": "3.7.6"
  }
 },
 "nbformat": 4,
 "nbformat_minor": 4
}
